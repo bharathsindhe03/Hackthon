{
 "cells": [
  {
   "cell_type": "code",
   "execution_count": null,
   "metadata": {},
   "outputs": [],
   "source": [
    "\n",
    "import pandas as pd\n",
    "import seaborn as sns\n",
    "import matplotlib.pyplot as plt\n",
    "import pandas as pd\n",
    "import matplotlib.pyplot as plt\n",
    "import numpy as np\n",
    "import seaborn as sns\n",
    "import plotly.express as px \n",
    "import pandas as pd\n",
    "import numpy as np\n",
    "import matplotlib.pyplot as plt\n",
    "import seaborn as sns\n",
    "from sklearn import model_selection\n",
    "from sklearn.linear_model import LogisticRegression\n",
    "from sklearn.model_selection import train_test_split\n",
    "\n"
   ]
  },
  {
   "cell_type": "code",
   "execution_count": null,
   "metadata": {},
   "outputs": [],
   "source": [
    "data1 = pd.read_csv('main.ipynb (data1).csv')"
   ]
  },
  {
   "cell_type": "code",
   "execution_count": null,
   "metadata": {},
   "outputs": [],
   "source": [
    "data1.head()"
   ]
  },
  {
   "cell_type": "code",
   "execution_count": null,
   "metadata": {},
   "outputs": [],
   "source": [
    "data1.info()"
   ]
  },
  {
   "cell_type": "code",
   "execution_count": null,
   "metadata": {},
   "outputs": [],
   "source": [
    "corr_matrix = data1[['TIME OCC', 'Rpt Dist No', 'Part 1-2', 'Crm Cd', 'Vict Age', 'Weapon Used Cd', 'Crm Cd 1', 'LAT', 'LON']].corr()\n",
    "\n",
    "plt.figure(figsize=(12, 8))\n",
    "sns.heatmap(corr_matrix, annot=True, fmt='.2f', cmap='coolwarm', linewidths=0.5)\n",
    "plt.title('Heatmap of Numerical Features Correlation')\n",
    "plt.show()"
   ]
  },
  {
   "cell_type": "code",
   "execution_count": null,
   "metadata": {},
   "outputs": [],
   "source": [
    "fig = px.scatter(data1, x=\"LON\", y=\"LAT\") \n",
    "fig.show()"
   ]
  },
  {
   "cell_type": "code",
   "execution_count": null,
   "metadata": {},
   "outputs": [],
   "source": [
    "plt.figure(figsize=(10, 6))\n",
    "sns.countplot(y='Crm Cd Desc', data=data1, order=data1['Crm Cd Desc'].value_counts().index)\n",
    "plt.title('Distribution of Crime Types')\n",
    "plt.xlabel('Count')\n",
    "plt.ylabel('Crime Type')\n",
    "plt.xticks(rotation=45)\n",
    "plt.tight_layout()\n",
    "plt.show()"
   ]
  },
  {
   "cell_type": "code",
   "execution_count": null,
   "metadata": {},
   "outputs": [],
   "source": [
    "plt.figure(figsize=(10, 8))\n",
    "sns.scatterplot(x='LON', y='LAT', hue='Crm Cd Desc', data=data1, palette='tab10', s=50)\n",
    "plt.title('Crime Incidents by Location')\n",
    "plt.xlabel('Longitude')\n",
    "plt.ylabel('Latitude')\n",
    "plt.legend(bbox_to_anchor=(1.05, 1), loc=2, borderaxespad=0.)\n",
    "plt.tight_layout()\n",
    "plt.show()\n"
   ]
  },
  {
   "cell_type": "code",
   "execution_count": null,
   "metadata": {},
   "outputs": [],
   "source": [
    "plt.figure(figsize=(12, 8))\n",
    "sns.violinplot(x='Vict Age', y='Crm Cd Desc', data=data1, palette='muted', inner='quartile')\n",
    "plt.title('Distribution of Victim Age by Crime Type')\n",
    "plt.xlabel('Victim Age')\n",
    "plt.ylabel('Crime Type')\n",
    "plt.xticks(rotation=45)\n",
    "plt.tight_layout()\n",
    "plt.show()\n"
   ]
  },
  {
   "cell_type": "code",
   "execution_count": null,
   "metadata": {},
   "outputs": [],
   "source": [
    "data1['DATE OCC'] = pd.to_datetime(data1['DATE OCC'])\n",
    "data1['YearMonth'] = data1['DATE OCC'].dt.to_period('M')\n",
    "\n",
    "plt.figure(figsize=(14, 6))\n",
    "sns.countplot(x='YearMonth', data=data1.sort_values('DATE OCC'))\n",
    "plt.title('Monthly Crime Occurrences')\n",
    "plt.xlabel('Year-Month')\n",
    "plt.ylabel('Count')\n",
    "plt.xticks(rotation=45)\n",
    "plt.tight_layout()\n",
    "plt.show()\n"
   ]
  },
  {
   "cell_type": "code",
   "execution_count": null,
   "metadata": {},
   "outputs": [],
   "source": [
    "plt.figure(figsize=(12, 8))\n",
    "sns.countplot(y='Crm Cd Desc', data=data1, order=data1['Crm Cd Desc'].value_counts().index[:10])\n",
    "plt.title('Top 10 Crime Types')\n",
    "plt.xlabel('Count')\n",
    "plt.ylabel('Crime Type')\n",
    "plt.tight_layout()\n",
    "plt.show()\n"
   ]
  },
  {
   "cell_type": "code",
   "execution_count": null,
   "metadata": {},
   "outputs": [],
   "source": [
    "plt.figure(figsize=(8, 6))\n",
    "sns.countplot(x='Vict Sex', data=data1, palette='Set2')\n",
    "plt.title('Distribution of Crimes by Victim Sex')\n",
    "plt.xlabel('Victim Sex')\n",
    "plt.ylabel('Count')\n",
    "plt.tight_layout()\n",
    "plt.show()\n"
   ]
  },
  {
   "cell_type": "code",
   "execution_count": null,
   "metadata": {},
   "outputs": [],
   "source": [
    "plt.figure(figsize=(12, 8))\n",
    "sns.countplot(y='Crm Cd Desc', hue='Premis Desc', data=data1, order=data1['Crm Cd Desc'].value_counts().index[:10], palette='Set2')\n",
    "plt.title('Crime Type by Premises Description')\n",
    "plt.xlabel('Count')\n",
    "plt.ylabel('Crime Type')\n",
    "plt.legend(title='Premises Description', loc='upper right')\n",
    "plt.tight_layout()\n",
    "plt.show()\n"
   ]
  },
  {
   "cell_type": "code",
   "execution_count": null,
   "metadata": {},
   "outputs": [],
   "source": [
    "plt.figure(figsize=(12, 10))\n",
    "sns.scatterplot(x='LON', y='LAT', data=data1, alpha=0.6)\n",
    "plt.title('Crime Occurrence Scatter Plot with Heatmap Overlay')\n",
    "plt.xlabel('Longitude')\n",
    "plt.ylabel('Latitude')\n",
    "\n",
    "#sns.kdeplot(data1['LON'], data1['LAT'], cmap='viridis', shade=True, shade_lowest=False, alpha=0.5, cbar=True)\n",
    "plt.xlim(data1['LON'].min(), data1['LON'].max())\n",
    "plt.ylim(data1['LAT'].min(), data1['LAT'].max())\n",
    "plt.tight_layout()\n",
    "plt.show()"
   ]
  },
  {
   "cell_type": "code",
   "execution_count": null,
   "metadata": {},
   "outputs": [],
   "source": [
    "import pandas as pd\n",
    "from sklearn.model_selection import train_test_split\n",
    "from sklearn.svm import SVC\n",
    "from sklearn.preprocessing import StandardScaler\n",
    "from sklearn.pipeline import make_pipeline\n",
    "from sklearn.metrics import classification_report, accuracy_score\n",
    "from sklearn.feature_selection import RFE\n",
    "\n",
    "file_path = '/content/main.ipynb (data).csv'\n",
    "data = pd.read_csv(file_path)\n",
    "\n",
    "data = data.dropna(subset=['LAT', 'LON','LOCATION'])\n",
    "\n",
    "X = data[['LAT', 'LON']]\n",
    "y = data['LOCATION']\n",
    "\n",
    "assert len(X) == len(y), \"Features and target variable must have the same number of samples\"\n",
    "\n",
    "X_train, X_test, y_train, y_test = train_test_split(X, y, test_size=0.2, random_state=42)\n",
    "\n",
    "svm = SVC(kernel='linear', C=1.0)\n",
    "rfe = RFE(estimator=svm, n_features_to_select=1)\n",
    "rfe.fit(X_train, y_train)\n",
    "\n",
    "X_train_selected = rfe.transform(X_train)\n",
    "X_test_selected = rfe.transform(X_test)\n",
    "\n",
    "scaler = StandardScaler()\n",
    "X_train_scaled = scaler.fit_transform(X_train_selected)\n",
    "X_test_scaled = scaler.transform(X_test_selected)\n",
    "\n",
    "svm_model = SVC(kernel='linear', C=1.0)\n",
    "svm_model.fit(X_train_scaled, y_train)\n",
    "\n",
    "y_pred = svm_model.predict(X_test_scaled)\n",
    "\n",
    "print(\"Selected Features:\", rfe.support_)\n",
    "print(\"Feature Ranking:\", rfe.ranking_)\n",
    "print(\"Accuracy:\", accuracy_score(y_test, y_pred))\n",
    "print(\"Classification Report:\\n\", classification_report(y_test,y_pred))"
   ]
  },
  {
   "cell_type": "code",
   "execution_count": null,
   "metadata": {},
   "outputs": [],
   "source": [
    "import pandas as pd\n",
    "import numpy as np\n",
    "from datetime import datetime\n",
    "df = pd.read_csv('read.csv')\n",
    "\n",
    "for i in range(0,df.size):\n",
    "    dt_obj = pd.to_datetime(str(df['DateRptd'][i]))\n",
    "    dt_obj1 = pd.to_datetime(str(df['DATE OCC'][i]))\n",
    "    print(str(df['DateRptd'][i]))\n",
    "    timestamp = int(dt_obj.timestamp())\n",
    "    timestamp1 = int(dt_obj1.timestamp())\n",
    "\n",
    "    df['DateRptd'][i] = timestamp\n",
    "    df['DATE OCC'][i] = timestamp1\n",
    "    print(df['DateRptd'][i])"
   ]
  }
 ],
 "metadata": {
  "kernelspec": {
   "display_name": "Python 3",
   "language": "python",
   "name": "python3"
  },
  "language_info": {
   "codemirror_mode": {
    "name": "ipython",
    "version": 3
   },
   "file_extension": ".py",
   "mimetype": "text/x-python",
   "name": "python",
   "nbconvert_exporter": "python",
   "pygments_lexer": "ipython3",
   "version": "3.12.3"
  }
 },
 "nbformat": 4,
 "nbformat_minor": 2
}
